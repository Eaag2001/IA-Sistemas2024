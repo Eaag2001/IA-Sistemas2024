{
  "nbformat": 4,
  "nbformat_minor": 0,
  "metadata": {
    "colab": {
      "provenance": [],
      "authorship_tag": "ABX9TyNDEmZ/thAwGm3TVN27oK6u",
      "include_colab_link": true
    },
    "kernelspec": {
      "name": "python3",
      "display_name": "Python 3"
    },
    "language_info": {
      "name": "python"
    }
  },
  "cells": [
    {
      "cell_type": "markdown",
      "metadata": {
        "id": "view-in-github",
        "colab_type": "text"
      },
      "source": [
        "<a href=\"https://colab.research.google.com/github/Eaag2001/IA-Sistemas2024/blob/main/EvaluacionDiagnostica.ipynb\" target=\"_parent\"><img src=\"https://colab.research.google.com/assets/colab-badge.svg\" alt=\"Open In Colab\"/></a>"
      ]
    },
    {
      "cell_type": "markdown",
      "source": [
        "# Evaluacion Diagnostica"
      ],
      "metadata": {
        "id": "PvQoRvvtgv36"
      }
    },
    {
      "cell_type": "markdown",
      "source": [
        "Como se declara una lista en phyton?"
      ],
      "metadata": {
        "id": "UceqVlJUWxVX"
      }
    },
    {
      "cell_type": "code",
      "source": [
        "my_list = [1, 2, 3]\n",
        "print(my_list)"
      ],
      "metadata": {
        "colab": {
          "base_uri": "https://localhost:8080/"
        },
        "id": "hYpbu8u4W5_u",
        "outputId": "9a57c24b-062e-453d-f8b3-0f99c8cc9355"
      },
      "execution_count": null,
      "outputs": [
        {
          "output_type": "stream",
          "name": "stdout",
          "text": [
            "[1, 2, 3]\n"
          ]
        }
      ]
    },
    {
      "cell_type": "markdown",
      "source": [
        "Que funcion se usa para conocer el numero de elementos en una lista?"
      ],
      "metadata": {
        "id": "JQrFAH_VXM2x"
      }
    },
    {
      "cell_type": "code",
      "source": [
        "print(len(my_list))"
      ],
      "metadata": {
        "colab": {
          "base_uri": "https://localhost:8080/"
        },
        "id": "7-cU2P5HXWJb",
        "outputId": "4cd94e7f-8686-44cd-d55e-6aeafd3ec1d9"
      },
      "execution_count": null,
      "outputs": [
        {
          "output_type": "stream",
          "name": "stdout",
          "text": [
            "3\n"
          ]
        }
      ]
    },
    {
      "cell_type": "markdown",
      "source": [
        "Que resultado obtendremos al ejecutar el siguiente codigo?"
      ],
      "metadata": {
        "id": "Q-7f1dOeWQu_"
      }
    },
    {
      "cell_type": "code",
      "execution_count": null,
      "metadata": {
        "id": "lfVrvOuXU88D"
      },
      "outputs": [],
      "source": [
        "a = [1, 2, 3, 4, 5]"
      ]
    },
    {
      "cell_type": "code",
      "source": [
        "print(a[::-1])"
      ],
      "metadata": {
        "colab": {
          "base_uri": "https://localhost:8080/"
        },
        "id": "94_ZxOCqWAmc",
        "outputId": "14bba9d6-12db-4d0a-ff59-d01d56e24284"
      },
      "execution_count": null,
      "outputs": [
        {
          "output_type": "stream",
          "name": "stdout",
          "text": [
            "[5, 4, 3, 2, 1]\n"
          ]
        }
      ]
    },
    {
      "cell_type": "markdown",
      "source": [
        "Cual es el resultado de la sigueinte expresion?"
      ],
      "metadata": {
        "id": "mLZ799SsWdXt"
      }
    },
    {
      "cell_type": "code",
      "source": [
        "print(3 * \"5\" + 2)"
      ],
      "metadata": {
        "colab": {
          "base_uri": "https://localhost:8080/",
          "height": 141
        },
        "id": "g1WFAXh8Wred",
        "outputId": "f0b1de28-b1e9-4d41-fd1f-960b1b4d5617"
      },
      "execution_count": null,
      "outputs": [
        {
          "output_type": "error",
          "ename": "TypeError",
          "evalue": "can only concatenate str (not \"int\") to str",
          "traceback": [
            "\u001b[0;31m---------------------------------------------------------------------------\u001b[0m",
            "\u001b[0;31mTypeError\u001b[0m                                 Traceback (most recent call last)",
            "\u001b[0;32m<ipython-input-3-ea3a5d57cce5>\u001b[0m in \u001b[0;36m<cell line: 1>\u001b[0;34m()\u001b[0m\n\u001b[0;32m----> 1\u001b[0;31m \u001b[0mprint\u001b[0m\u001b[0;34m(\u001b[0m\u001b[0;36m3\u001b[0m \u001b[0;34m*\u001b[0m \u001b[0;34m\"5\"\u001b[0m \u001b[0;34m+\u001b[0m \u001b[0;36m2\u001b[0m\u001b[0;34m)\u001b[0m\u001b[0;34m\u001b[0m\u001b[0;34m\u001b[0m\u001b[0m\n\u001b[0m",
            "\u001b[0;31mTypeError\u001b[0m: can only concatenate str (not \"int\") to str"
          ]
        }
      ]
    },
    {
      "cell_type": "markdown",
      "source": [
        "Que salida generara el siguiente codigo?"
      ],
      "metadata": {
        "id": "liLYlnYlXg32"
      }
    },
    {
      "cell_type": "code",
      "source": [
        "def foo(x, y = []):\n",
        "    y.append(x)\n",
        "    return y\n",
        "\n",
        "print(foo(1))\n",
        "print(foo(2, []))\n",
        "print(foo(3))"
      ],
      "metadata": {
        "colab": {
          "base_uri": "https://localhost:8080/"
        },
        "id": "hD8XZGnVXmiL",
        "outputId": "b604711a-273d-4d18-cd82-e9016bd0f831"
      },
      "execution_count": null,
      "outputs": [
        {
          "output_type": "stream",
          "name": "stdout",
          "text": [
            "[1]\n",
            "[2]\n",
            "[1, 3]\n"
          ]
        }
      ]
    },
    {
      "cell_type": "markdown",
      "source": [
        "Que resultado obtendremos al ejecutar el sigueinte codigo?"
      ],
      "metadata": {
        "id": "DyX3p6XhYGzb"
      }
    },
    {
      "cell_type": "code",
      "source": [
        "def multiply_list(numbers, factor):\n",
        "    result = []\n",
        "    for number in numbers:\n",
        "        result.append(number * factor)\n",
        "    return result\n",
        "\n",
        "my_list = [1, 2, 3]\n",
        "output = multiply_list(my_list, 2)\n",
        "print(output)"
      ],
      "metadata": {
        "colab": {
          "base_uri": "https://localhost:8080/"
        },
        "id": "-5dh0UK-YNi4",
        "outputId": "7f39d0b1-201e-4a67-c6cc-0b055de5a847"
      },
      "execution_count": null,
      "outputs": [
        {
          "output_type": "stream",
          "name": "stdout",
          "text": [
            "[2, 4, 6]\n"
          ]
        }
      ]
    },
    {
      "cell_type": "markdown",
      "source": [
        "# Practica de Phyton\n",
        "\n"
      ],
      "metadata": {
        "id": "0yUs7gHpgk4Y"
      }
    },
    {
      "cell_type": "markdown",
      "source": [
        "Clasificacion de una lista con numeros pares e impares"
      ],
      "metadata": {
        "id": "B5s6yWsQhHLF"
      }
    },
    {
      "cell_type": "code",
      "source": [
        "# Declaracion de variables\n",
        "numeros = [10, 25, 36, 98, 77, 34, 89, 58]\n",
        "pares = []\n",
        "impares = []"
      ],
      "metadata": {
        "id": "xLo6oCINhdYE"
      },
      "execution_count": 5,
      "outputs": []
    },
    {
      "cell_type": "code",
      "source": [
        "# Ciclo for para recorrer la lista\n",
        "for numero in numeros:\n",
        "    if numero % 2 == 0:\n",
        "        pares.append(numero)\n",
        "    else:\n",
        "        impares.append(numero)"
      ],
      "metadata": {
        "id": "8ReV3MJ1imds"
      },
      "execution_count": 6,
      "outputs": []
    },
    {
      "cell_type": "code",
      "source": [
        "# Imprimir los numeros pares e impares\n",
        "print(\"Numeros pares:\", pares, \"Total: \" , len(pares))\n",
        "print(\"Numeros impares:\", impares, \"Total: \" , len(impares))"
      ],
      "metadata": {
        "colab": {
          "base_uri": "https://localhost:8080/"
        },
        "id": "WiKcl3GSjpn5",
        "outputId": "c5463592-9476-4499-f813-e92bea2cc4ed"
      },
      "execution_count": 10,
      "outputs": [
        {
          "output_type": "stream",
          "name": "stdout",
          "text": [
            "Numeros pares: [10, 36, 98, 34, 58] Total:  5\n",
            "Numeros impares: [25, 77, 89] Total:  3\n"
          ]
        }
      ]
    },
    {
      "cell_type": "code",
      "source": [
        "# Funcion de los numeros pares\n",
        "def SumaPares(lista):\n",
        "    suma = 0\n",
        "    for numero in lista:\n",
        "      suma += numero\n",
        "    return suma"
      ],
      "metadata": {
        "id": "5Q_IRFz7mdA5"
      },
      "execution_count": 17,
      "outputs": []
    },
    {
      "cell_type": "code",
      "source": [
        "# Impresion de la suma\n",
        "print(\"La suma de los numeros pares es:\", SumaPares(pares))"
      ],
      "metadata": {
        "colab": {
          "base_uri": "https://localhost:8080/"
        },
        "id": "7OG8-8m7nQDO",
        "outputId": "1b30e5f5-ad56-4a7d-aefd-79d6be21c874"
      },
      "execution_count": 21,
      "outputs": [
        {
          "output_type": "stream",
          "name": "stdout",
          "text": [
            "La suma de los numeros pares es: 236\n"
          ]
        }
      ]
    }
  ]
}