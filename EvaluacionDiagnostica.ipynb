{
  "cells": [
    {
      "cell_type": "markdown",
      "metadata": {
        "id": "view-in-github",
        "colab_type": "text"
      },
      "source": [
        "<a href=\"https://colab.research.google.com/github/Eaag2001/IA-Sistemas2024/blob/main/EvaluacionDiagnostica.ipynb\" target=\"_parent\"><img src=\"https://colab.research.google.com/assets/colab-badge.svg\" alt=\"Open In Colab\"/></a>"
      ]
    },
    {
      "cell_type": "markdown",
      "metadata": {
        "id": "PvQoRvvtgv36"
      },
      "source": [
        "# Evaluacion Diagnostica"
      ]
    },
    {
      "cell_type": "markdown",
      "metadata": {
        "id": "UceqVlJUWxVX"
      },
      "source": [
        "Como se declara una lista en phyton?"
      ]
    },
    {
      "cell_type": "code",
      "execution_count": null,
      "metadata": {
        "colab": {
          "base_uri": "https://localhost:8080/"
        },
        "id": "hYpbu8u4W5_u",
        "outputId": "9a57c24b-062e-453d-f8b3-0f99c8cc9355"
      },
      "outputs": [
        {
          "name": "stdout",
          "output_type": "stream",
          "text": [
            "[1, 2, 3]\n"
          ]
        }
      ],
      "source": [
        "my_list = [1, 2, 3]\n",
        "print(my_list)"
      ]
    },
    {
      "cell_type": "markdown",
      "metadata": {
        "id": "JQrFAH_VXM2x"
      },
      "source": [
        "Que funcion se usa para conocer el numero de elementos en una lista?"
      ]
    },
    {
      "cell_type": "code",
      "execution_count": null,
      "metadata": {
        "colab": {
          "base_uri": "https://localhost:8080/"
        },
        "id": "7-cU2P5HXWJb",
        "outputId": "4cd94e7f-8686-44cd-d55e-6aeafd3ec1d9"
      },
      "outputs": [
        {
          "name": "stdout",
          "output_type": "stream",
          "text": [
            "3\n"
          ]
        }
      ],
      "source": [
        "print(len(my_list))"
      ]
    },
    {
      "cell_type": "markdown",
      "metadata": {
        "id": "Q-7f1dOeWQu_"
      },
      "source": [
        "Que resultado obtendremos al ejecutar el siguiente codigo?"
      ]
    },
    {
      "cell_type": "code",
      "execution_count": null,
      "metadata": {
        "id": "lfVrvOuXU88D"
      },
      "outputs": [],
      "source": [
        "a = [1, 2, 3, 4, 5]"
      ]
    },
    {
      "cell_type": "code",
      "execution_count": null,
      "metadata": {
        "colab": {
          "base_uri": "https://localhost:8080/"
        },
        "id": "94_ZxOCqWAmc",
        "outputId": "14bba9d6-12db-4d0a-ff59-d01d56e24284"
      },
      "outputs": [
        {
          "name": "stdout",
          "output_type": "stream",
          "text": [
            "[5, 4, 3, 2, 1]\n"
          ]
        }
      ],
      "source": [
        "print(a[::-1])"
      ]
    },
    {
      "cell_type": "markdown",
      "metadata": {
        "id": "mLZ799SsWdXt"
      },
      "source": [
        "Cual es el resultado de la sigueinte expresion?"
      ]
    },
    {
      "cell_type": "code",
      "execution_count": null,
      "metadata": {
        "colab": {
          "base_uri": "https://localhost:8080/",
          "height": 141
        },
        "id": "g1WFAXh8Wred",
        "outputId": "f0b1de28-b1e9-4d41-fd1f-960b1b4d5617"
      },
      "outputs": [
        {
          "ename": "TypeError",
          "evalue": "can only concatenate str (not \"int\") to str",
          "output_type": "error",
          "traceback": [
            "\u001b[0;31m---------------------------------------------------------------------------\u001b[0m",
            "\u001b[0;31mTypeError\u001b[0m                                 Traceback (most recent call last)",
            "\u001b[0;32m<ipython-input-3-ea3a5d57cce5>\u001b[0m in \u001b[0;36m<cell line: 1>\u001b[0;34m()\u001b[0m\n\u001b[0;32m----> 1\u001b[0;31m \u001b[0mprint\u001b[0m\u001b[0;34m(\u001b[0m\u001b[0;36m3\u001b[0m \u001b[0;34m*\u001b[0m \u001b[0;34m\"5\"\u001b[0m \u001b[0;34m+\u001b[0m \u001b[0;36m2\u001b[0m\u001b[0;34m)\u001b[0m\u001b[0;34m\u001b[0m\u001b[0;34m\u001b[0m\u001b[0m\n\u001b[0m",
            "\u001b[0;31mTypeError\u001b[0m: can only concatenate str (not \"int\") to str"
          ]
        }
      ],
      "source": [
        "print(3 * \"5\" + 2)"
      ]
    },
    {
      "cell_type": "markdown",
      "metadata": {
        "id": "liLYlnYlXg32"
      },
      "source": [
        "Que salida generara el siguiente codigo?"
      ]
    },
    {
      "cell_type": "code",
      "execution_count": null,
      "metadata": {
        "colab": {
          "base_uri": "https://localhost:8080/"
        },
        "id": "hD8XZGnVXmiL",
        "outputId": "b604711a-273d-4d18-cd82-e9016bd0f831"
      },
      "outputs": [
        {
          "name": "stdout",
          "output_type": "stream",
          "text": [
            "[1]\n",
            "[2]\n",
            "[1, 3]\n"
          ]
        }
      ],
      "source": [
        "def foo(x, y = []):\n",
        "    y.append(x)\n",
        "    return y\n",
        "\n",
        "print(foo(1))\n",
        "print(foo(2, []))\n",
        "print(foo(3))"
      ]
    },
    {
      "cell_type": "markdown",
      "metadata": {
        "id": "DyX3p6XhYGzb"
      },
      "source": [
        "Que resultado obtendremos al ejecutar el sigueinte codigo?"
      ]
    },
    {
      "cell_type": "code",
      "execution_count": null,
      "metadata": {
        "colab": {
          "base_uri": "https://localhost:8080/"
        },
        "id": "-5dh0UK-YNi4",
        "outputId": "7f39d0b1-201e-4a67-c6cc-0b055de5a847"
      },
      "outputs": [
        {
          "name": "stdout",
          "output_type": "stream",
          "text": [
            "[2, 4, 6]\n"
          ]
        }
      ],
      "source": [
        "def multiply_list(numbers, factor):\n",
        "    result = []\n",
        "    for number in numbers:\n",
        "        result.append(number * factor)\n",
        "    return result\n",
        "\n",
        "my_list = [1, 2, 3]\n",
        "output = multiply_list(my_list, 2)\n",
        "print(output)"
      ]
    },
    {
      "cell_type": "markdown",
      "metadata": {
        "id": "0yUs7gHpgk4Y"
      },
      "source": [
        "# Practica de Phyton\n",
        "\n"
      ]
    },
    {
      "cell_type": "markdown",
      "metadata": {
        "id": "B5s6yWsQhHLF"
      },
      "source": [
        "Clasificacion de una lista con numeros pares e impares"
      ]
    },
    {
      "cell_type": "code",
      "execution_count": null,
      "metadata": {
        "id": "xLo6oCINhdYE"
      },
      "outputs": [],
      "source": [
        "# Declaracion de variables\n",
        "numeros = [10, 25, 36, 98, 77, 34, 89, 58]\n",
        "pares = []\n",
        "impares = []"
      ]
    },
    {
      "cell_type": "code",
      "execution_count": null,
      "metadata": {
        "id": "8ReV3MJ1imds"
      },
      "outputs": [],
      "source": [
        "# Ciclo for para recorrer la lista\n",
        "for numero in numeros:\n",
        "    if numero % 2 == 0:\n",
        "        pares.append(numero)\n",
        "    else:\n",
        "        impares.append(numero)"
      ]
    },
    {
      "cell_type": "code",
      "execution_count": null,
      "metadata": {
        "colab": {
          "base_uri": "https://localhost:8080/"
        },
        "id": "WiKcl3GSjpn5",
        "outputId": "c5463592-9476-4499-f813-e92bea2cc4ed"
      },
      "outputs": [
        {
          "name": "stdout",
          "output_type": "stream",
          "text": [
            "Numeros pares: [10, 36, 98, 34, 58] Total:  5\n",
            "Numeros impares: [25, 77, 89] Total:  3\n"
          ]
        }
      ],
      "source": [
        "# Imprimir los numeros pares e impares\n",
        "print(\"Numeros pares:\", pares, \"Total: \" , len(pares))\n",
        "print(\"Numeros impares:\", impares, \"Total: \" , len(impares))"
      ]
    },
    {
      "cell_type": "code",
      "execution_count": null,
      "metadata": {
        "id": "5Q_IRFz7mdA5"
      },
      "outputs": [],
      "source": [
        "# Funcion de los numeros pares\n",
        "def SumaPares(lista):\n",
        "    suma = 0\n",
        "    for numero in lista:\n",
        "      suma += numero\n",
        "    return suma"
      ]
    },
    {
      "cell_type": "code",
      "execution_count": null,
      "metadata": {
        "colab": {
          "base_uri": "https://localhost:8080/"
        },
        "id": "7OG8-8m7nQDO",
        "outputId": "1b30e5f5-ad56-4a7d-aefd-79d6be21c874"
      },
      "outputs": [
        {
          "name": "stdout",
          "output_type": "stream",
          "text": [
            "La suma de los numeros pares es: 236\n"
          ]
        }
      ],
      "source": [
        "# Impresion de la suma\n",
        "print(\"La suma de los numeros pares es:\", SumaPares(pares))"
      ]
    },
    {
      "cell_type": "markdown",
      "metadata": {
        "id": "Itn45G2ibH20"
      },
      "source": [
        "# **Practica 2 - Ejercicios en python**"
      ]
    },
    {
      "cell_type": "markdown",
      "metadata": {
        "id": "YAybCzGKbTJd"
      },
      "source": [
        "### Un taller automotriz necesita llevar un control de su inventario de repuestos. Crea un programa que permita agregar, eliminar y consultar la cantidad de repuestos disponibles, así como realizar una compra cuando el inventario de un repuesto está bajo."
      ]
    },
    {
      "cell_type": "markdown",
      "source": [
        "Se crea la funcion \"invenrario\" para poder alamacenar los valores que se ingresaran."
      ],
      "metadata": {
        "id": "SipeZLPTpUMf"
      }
    },
    {
      "cell_type": "code",
      "source": [
        "inventario = {}"
      ],
      "metadata": {
        "id": "K6f4UW1fg3WN"
      },
      "execution_count": 1,
      "outputs": []
    },
    {
      "cell_type": "markdown",
      "source": [
        "Se define la funcion \"agregar_repuesto\", en donde verificara la existencia de dicho producto."
      ],
      "metadata": {
        "id": "BoQRzzTWpg4F"
      }
    },
    {
      "cell_type": "code",
      "source": [
        "def agregar_repuesto(nombre, cantidad):\n",
        "    if nombre in inventario:\n",
        "        inventario[nombre] += cantidad\n",
        "    else:\n",
        "        inventario[nombre] = cantidad\n",
        "    print(f\"Se agregó {cantidad} de {nombre} al inventario.\")"
      ],
      "metadata": {
        "id": "_OHoxh8VhDgr"
      },
      "execution_count": null,
      "outputs": []
    },
    {
      "cell_type": "markdown",
      "source": [
        "La funcion \"eliminar_repuesto\" tiene el fin de eliminar productos de la lista siempre y cuando existan mandando un mensaje si la eliminacion fue exitosa."
      ],
      "metadata": {
        "id": "oOt5yGQPqGdU"
      }
    },
    {
      "cell_type": "code",
      "source": [
        "def eliminar_repuesto(nombre):\n",
        "    if nombre in inventario:\n",
        "        del inventario[nombre]\n",
        "        print(f\"{nombre} fue eliminado del inventario.\")\n",
        "    else:\n",
        "        print(f\"{nombre} no se encontró en el inventario.\")"
      ],
      "metadata": {
        "id": "1c1e_NqJhHhz"
      },
      "execution_count": null,
      "outputs": []
    },
    {
      "cell_type": "markdown",
      "source": [
        "La funcion \"consultar_repuesto\" nos ayuda a cuantificar cuantos elementos hay en existencia de dicho producto, siempre y cuando este dado de alta."
      ],
      "metadata": {
        "id": "rtRMlgksqkkU"
      }
    },
    {
      "cell_type": "code",
      "source": [
        "def consultar_repuesto(nombre):\n",
        "    if nombre in inventario:\n",
        "        print(f\"{nombre}: {inventario[nombre]} en inventario.\")\n",
        "    else:\n",
        "        print(f\"{nombre} no está en el inventario.\")"
      ],
      "metadata": {
        "id": "CiS-10tthsVp"
      },
      "execution_count": null,
      "outputs": []
    },
    {
      "cell_type": "markdown",
      "source": [
        "Se define la funcion \"realizar_compra\" en donde simula la compra del respuesto dependiendo de la cantidad seleccionada, verificando la existencia y la cantidad minima de piezas."
      ],
      "metadata": {
        "id": "MB9iNpv4q4MD"
      }
    },
    {
      "cell_type": "code",
      "source": [
        "def realizar_compra(nombre, cantidad_minima):\n",
        "    if nombre in inventario:\n",
        "        if inventario[nombre] < cantidad_minima:\n",
        "            compra = cantidad_minima - inventario[nombre]\n",
        "            inventario[nombre] += compra\n",
        "            print(f\"Se compraron {compra} unidades de {nombre}.\")\n",
        "        else:\n",
        "            print(f\"El inventario de {nombre} es suficiente.\")\n",
        "    else:\n",
        "        print(f\"{nombre} no está en el inventario.\")"
      ],
      "metadata": {
        "id": "rtfMLU6vh9GY"
      },
      "execution_count": null,
      "outputs": []
    },
    {
      "cell_type": "markdown",
      "source": [
        "La funcion \"menu\" hace la gestion interactiva donde se hace uso de un bucle while donde muesta las deiferentes opciones ya predefinidas anteriormente (agregar, eliminar, consultar y realizar compras)."
      ],
      "metadata": {
        "id": "E9xdZjgGrq9V"
      }
    },
    {
      "cell_type": "code",
      "source": [
        "def menu():\n",
        "    while True:\n",
        "        print(\"\\n--- Taller Automotriz - Gestión de Inventario ---\")\n",
        "        print(\"1. Agregar repuesto\")\n",
        "        print(\"2. Eliminar repuesto\")\n",
        "        print(\"3. Consultar inventario\")\n",
        "        print(\"4. Realizar compra si inventario bajo\")\n",
        "        print(\"5. Salir\")\n",
        "        opcion = input(\"Elige una opción: \")\n",
        "\n",
        "        if opcion == '1':\n",
        "            nombre = input(\"Nombre del repuesto: \")\n",
        "            cantidad = int(input(\"Cantidad: \"))\n",
        "            agregar_repuesto(nombre, cantidad)\n",
        "\n",
        "        elif opcion == '2':\n",
        "            nombre = input(\"Nombre del repuesto a eliminar: \")\n",
        "            eliminar_repuesto(nombre)\n",
        "\n",
        "        elif opcion == '3':\n",
        "            nombre = input(\"Nombre del repuesto a consultar: \")\n",
        "            consultar_repuesto(nombre)\n",
        "\n",
        "        elif opcion == '4':\n",
        "            nombre = input(\"Nombre del repuesto para verificar inventario: \")\n",
        "            cantidad_minima = int(input(\"Cantidad mínima requerida: \"))\n",
        "            realizar_compra(nombre, cantidad_minima)\n",
        "\n",
        "        elif opcion == '5':\n",
        "            print(\"Saliendo del programa...\")\n",
        "            break\n",
        "        else:\n",
        "            print(\"Opción no válida, intenta de nuevo.\")"
      ],
      "metadata": {
        "id": "3IcUro32iCUP"
      },
      "execution_count": null,
      "outputs": []
    },
    {
      "cell_type": "markdown",
      "source": [
        "En este apartado se le llama a la funcion \"menu\" en donde se ejecutara el programa mostrando las diferentes opciones."
      ],
      "metadata": {
        "id": "gSKSFRhM_eeZ"
      }
    },
    {
      "cell_type": "code",
      "source": [
        "menu()"
      ],
      "metadata": {
        "id": "nnSeCTXfiR4J"
      },
      "execution_count": null,
      "outputs": []
    },
    {
      "cell_type": "markdown",
      "source": [
        "### Una empresa de servicios a terceros ofrece proyectos de consultoría y debe llevar el control de horas trabajadas por sus empleados en diferentes proyectos. Crea un programa que calcule las horas totales trabajadas por cada empleado en varios proyectos y su costo total en función de la tarifa por hora."
      ],
      "metadata": {
        "id": "WBixSPfD__9s"
      }
    },
    {
      "cell_type": "markdown",
      "source": [
        "Se crea la variable \"empleados\" en donde se almacenara la informacion de los datos que se ingresaran."
      ],
      "metadata": {
        "id": "lM8UJReqChIR"
      }
    },
    {
      "cell_type": "code",
      "source": [
        "empleados = {}"
      ],
      "metadata": {
        "id": "qAtyxKsNBGRs"
      },
      "execution_count": 2,
      "outputs": []
    },
    {
      "cell_type": "markdown",
      "source": [
        "Se define la funcion \"agregar_horas\" en donde su obtendra la informacion de las horas que trabajo el empleado."
      ],
      "metadata": {
        "id": "vz9_WPtFCvXM"
      }
    },
    {
      "cell_type": "code",
      "source": [
        "def agregar_horas(empleado, proyecto, horas, tarifa):\n",
        "    if empleado not in empleados:\n",
        "        empleados[empleado] = {}\n",
        "\n",
        "    if proyecto in empleados[empleado]:\n",
        "        empleados[empleado][proyecto]['horas'] += horas\n",
        "    else:\n",
        "        empleados[empleado][proyecto] = {'horas': horas, 'tarifa': tarifa}\n",
        "\n",
        "    print(f\"Se agregaron {horas} horas al proyecto {proyecto} para {empleado}.\")"
      ],
      "metadata": {
        "id": "sJEamxAEBImz"
      },
      "execution_count": 3,
      "outputs": []
    },
    {
      "cell_type": "markdown",
      "source": [
        "En este apartado se define la funcion \"total_horas\" en donde se calculara el total de horas que trabajo dicho empleado sumando a las horas de los proyectos a donde pertenece."
      ],
      "metadata": {
        "id": "xH0ibgGPC_R-"
      }
    },
    {
      "cell_type": "code",
      "source": [
        "def total_horas(empleado):\n",
        "    if empleado in empleados:\n",
        "        total = sum(empleados[empleado][proyecto]['horas'] for proyecto in empleados[empleado])\n",
        "        print(f\"El total de horas trabajadas por {empleado} es: {total} horas.\")\n",
        "        return total\n",
        "    else:\n",
        "        print(f\"{empleado} no tiene proyectos registrados.\")\n",
        "        return 0"
      ],
      "metadata": {
        "id": "xlQy_liYBL4_"
      },
      "execution_count": 4,
      "outputs": []
    },
    {
      "cell_type": "markdown",
      "source": [
        "En la funcion \"total_costo\" calculas el total de horas trabajadas por el empleado, multiplicando las horas de cada proyecto por la tarifa a cobrar por hora, asi sumando los resultados."
      ],
      "metadata": {
        "id": "JKM2ZwhcDW9W"
      }
    },
    {
      "cell_type": "code",
      "source": [
        "def total_costo(empleado):\n",
        "    if empleado in empleados:\n",
        "        total_costo = sum(empleados[empleado][proyecto]['horas'] * empleados[empleado][proyecto]['tarifa'] for proyecto in empleados[empleado])\n",
        "        print(f\"El costo total de las horas trabajadas por {empleado} es: ${total_costo:.2f}.\")\n",
        "        return total_costo\n",
        "    else:\n",
        "        print(f\"{empleado} no tiene proyectos registrados.\")\n",
        "        return 0"
      ],
      "metadata": {
        "id": "1DBNcGBDBQHz"
      },
      "execution_count": 5,
      "outputs": []
    },
    {
      "cell_type": "markdown",
      "source": [
        "Esta funcion \"detalle_proyectos\" ayuda a mostrar todos los proyectos en los que el empleado a trabajado, junto con sus horas y la tarifa por hora."
      ],
      "metadata": {
        "id": "7nErovWYDxLA"
      }
    },
    {
      "cell_type": "code",
      "source": [
        "def detalle_proyectos(empleado):\n",
        "    if empleado in empleados:\n",
        "        print(f\"\\n--- Proyectos de {empleado} ---\")\n",
        "        for proyecto, info in empleados[empleado].items():\n",
        "            print(f\"Proyecto: {proyecto}, Horas: {info['horas']}, Tarifa por hora: ${info['tarifa']}\")\n",
        "    else:\n",
        "        print(f\"{empleado} no tiene proyectos registrados.\")"
      ],
      "metadata": {
        "id": "1dTrOYmiBTuf"
      },
      "execution_count": 6,
      "outputs": []
    },
    {
      "cell_type": "markdown",
      "source": [
        "La funcion \"menu\" ayuda a manejar el programa, el cual permite al usuario elegir en el amplio menu para poder realizar diversas operaciones."
      ],
      "metadata": {
        "id": "epul5XWxEK9T"
      }
    },
    {
      "cell_type": "code",
      "source": [
        "def menu():\n",
        "    while True:\n",
        "        print(\"\\n--- Empresa de Servicios - Control de Horas ---\")\n",
        "        print(\"1. Agregar horas trabajadas\")\n",
        "        print(\"2. Calcular total de horas por empleado\")\n",
        "        print(\"3. Calcular costo total por empleado\")\n",
        "        print(\"4. Mostrar detalle de proyectos por empleado\")\n",
        "        print(\"5. Salir\")\n",
        "        opcion = input(\"Elige una opción: \")\n",
        "\n",
        "        if opcion == '1':\n",
        "            empleado = input(\"Nombre del empleado: \")\n",
        "            proyecto = input(\"Nombre del proyecto: \")\n",
        "            horas = float(input(\"Horas trabajadas: \"))\n",
        "            tarifa = float(input(\"Tarifa por hora: \"))\n",
        "            agregar_horas(empleado, proyecto, horas, tarifa)\n",
        "\n",
        "        elif opcion == '2':\n",
        "            empleado = input(\"Nombre del empleado: \")\n",
        "            total_horas(empleado)\n",
        "\n",
        "        elif opcion == '3':\n",
        "            empleado = input(\"Nombre del empleado: \")\n",
        "            total_costo(empleado)\n",
        "\n",
        "        elif opcion == '4':\n",
        "            empleado = input(\"Nombre del empleado: \")\n",
        "            detalle_proyectos(empleado)\n",
        "\n",
        "        elif opcion == '5':\n",
        "            print(\"Saliendo del programa...\")\n",
        "            break\n",
        "        else:\n",
        "            print(\"Opción no válida, intenta de nuevo.\")"
      ],
      "metadata": {
        "id": "1yHlfZNiBYuv"
      },
      "execution_count": 7,
      "outputs": []
    },
    {
      "cell_type": "markdown",
      "source": [
        "Esta linea \"menu\" ayuda a ejecutar la funcion menu, el cual despliega las diferentes opciones, con las cuales el usuario puede interactuar con el programa."
      ],
      "metadata": {
        "id": "wO4IG8RUEcrD"
      }
    },
    {
      "cell_type": "code",
      "source": [
        "menu()"
      ],
      "metadata": {
        "id": "Yqo_ZJyrBZ9A"
      },
      "execution_count": null,
      "outputs": []
    }
  ],
  "metadata": {
    "colab": {
      "provenance": [],
      "authorship_tag": "ABX9TyMR9BnYjAgq2F2j5Oc0puZs",
      "include_colab_link": true
    },
    "kernelspec": {
      "display_name": "Python 3",
      "name": "python3"
    },
    "language_info": {
      "name": "python"
    }
  },
  "nbformat": 4,
  "nbformat_minor": 0
}