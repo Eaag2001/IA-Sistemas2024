{
  "nbformat": 4,
  "nbformat_minor": 0,
  "metadata": {
    "colab": {
      "provenance": [],
      "authorship_tag": "ABX9TyOXaMfi89hwsBCAKSPpHYKP",
      "include_colab_link": true
    },
    "kernelspec": {
      "name": "python3",
      "display_name": "Python 3"
    },
    "language_info": {
      "name": "python"
    }
  },
  "cells": [
    {
      "cell_type": "markdown",
      "metadata": {
        "id": "view-in-github",
        "colab_type": "text"
      },
      "source": [
        "<a href=\"https://colab.research.google.com/github/Eaag2001/IA-Sistemas2024/blob/main/Evaluaci%C3%B3n.ipynb\" target=\"_parent\"><img src=\"https://colab.research.google.com/assets/colab-badge.svg\" alt=\"Open In Colab\"/></a>"
      ]
    },
    {
      "cell_type": "markdown",
      "source": [
        "# **Evaluación <br>**\n",
        "\n",
        "*   Crear un notebook en colab a partir del programa base de la compuerta AND\n",
        "*   Modificar para que funcione con las dos compuertas AND y OR\n",
        "\n",
        "---\n",
        "\n",
        "## **Criterios de aceptación: <br>**\n",
        "\n",
        "*   Menu interactivo donde pregunte si quiero introducir otro datashet\n",
        "    Entrega en un documento en PDF con Portada y URL de Colab y GitHub el 22 de septiembre del 2024.\n",
        "*   El programa va a solicitar los valores del datashet para X0 y X1, por lo\n",
        "    cual la impresión de resultados debe mostrar la compuerta AND y la compuerta OR (Y).\n",
        "*   Menu interactivo donde pregunte si quiero introducir otro datashet\n",
        "    Entrega en un documento en PDF con Portada y URL de Colab y GitHub el 22 de septiembre del 2024.\n",
        "\n",
        "---\n",
        "\n",
        "AND <br>\n",
        "0 0 -> 0 <br>\n",
        "0 1 -> 0 <br>\n",
        "1 0 -> 0 <br>\n",
        "1 1 -> 1 <br>\n",
        "\n",
        "---\n",
        "\n",
        "OR <br>\n",
        "0 0 -> 0 <br>\n",
        "0 1 -> 1 <br>\n",
        "1 0 -> 1 <br>\n",
        "1 1 -> 1 <br>"
      ],
      "metadata": {
        "id": "Skf5Pw-GoMnI"
      }
    },
    {
      "cell_type": "markdown",
      "source": [
        "## **Código basé**"
      ],
      "metadata": {
        "id": "QyBzs6hHZGCZ"
      }
    },
    {
      "cell_type": "code",
      "source": [
        "x = [1, 0]\n",
        "w = [1, 1]\n",
        "\n",
        "so = -1.5\n",
        "for i in range(0, 2):\n",
        "    s = so + x[i] * w[i]\n",
        "y_and = 1 if s > 0 else 0\n",
        "print('S es igual a:', so)\n",
        "print(x[0], 'AND', x[1], '=', y_and)\n",
        "\n",
        "st = -0.5\n",
        "for i in range(0, 2):\n",
        "    s = st + x[i] * w[i]\n",
        "y_or = 1 if s > 0 else 0\n",
        "print('S es igual a:', st)\n",
        "print(x[0], 'OR', x[1], '=', y_or)\n"
      ],
      "metadata": {
        "id": "8u62tCevl1X_",
        "colab": {
          "base_uri": "https://localhost:8080/"
        },
        "outputId": "2a21470d-8e85-4d7b-8e78-6ece962080b8"
      },
      "execution_count": null,
      "outputs": [
        {
          "output_type": "stream",
          "name": "stdout",
          "text": [
            "S es igual a: -1.5\n",
            "1 AND 0 = 0\n",
            "S es igual a: -0.5\n",
            "1 OR 0 = 0\n"
          ]
        }
      ]
    },
    {
      "cell_type": "markdown",
      "source": [
        "## **Código con menu interactivo**"
      ],
      "metadata": {
        "id": "UbJ1eu1EafL4"
      }
    },
    {
      "cell_type": "markdown",
      "source": [
        "Esta función calcula la operación lógica AND utilizando los valores de entrada x y los pesos w."
      ],
      "metadata": {
        "id": "3jlYVXlmarGX"
      }
    },
    {
      "cell_type": "code",
      "source": [
        "def and_operation(x, w):\n",
        "    so = -1.5\n",
        "    s = so\n",
        "    for i in range(2):\n",
        "        s += x[i] * w[i]\n",
        "    y_and = 1 if s > 0 else 0\n",
        "    return y_and, so"
      ],
      "metadata": {
        "id": "eXhIFRNeW9mK"
      },
      "execution_count": null,
      "outputs": []
    },
    {
      "cell_type": "markdown",
      "source": [
        "Esta función realiza la operación lógica OR utilizando las entradas x y los pesos w."
      ],
      "metadata": {
        "id": "cQtEqgAra0wC"
      }
    },
    {
      "cell_type": "code",
      "source": [
        "def or_operation(x, w):\n",
        "    st = -0.5\n",
        "    s = st\n",
        "    for i in range(2):\n",
        "        s += x[i] * w[i]\n",
        "    y_or = 1 if s > 0 else 0\n",
        "    return y_or, st"
      ],
      "metadata": {
        "id": "JdlNcxHYY2Qb"
      },
      "execution_count": null,
      "outputs": []
    },
    {
      "cell_type": "markdown",
      "source": [
        "Esta función permite al usuario ingresar los valores de las entradas x[0] y x[1] de manera interactiva, asegurándose de que solo se ingresen valores válidos (0 o 1)."
      ],
      "metadata": {
        "id": "U5HXumDna7HB"
      }
    },
    {
      "cell_type": "code",
      "source": [
        "def ingresar_datos():\n",
        "    x = []\n",
        "    for i in range(2):\n",
        "        while True:\n",
        "            try:\n",
        "                x_val = int(input(f\"Ingrese el valor de x[{i}] (0 o 1): \"))\n",
        "                if x_val not in [0, 1]:\n",
        "                    raise ValueError(\"Solo se permiten 0 o 1.\")\n",
        "                x.append(x_val)\n",
        "                break\n",
        "            except ValueError as e:\n",
        "                print(e)\n",
        "    return x"
      ],
      "metadata": {
        "id": "ohCfsugZY6q9"
      },
      "execution_count": null,
      "outputs": []
    },
    {
      "cell_type": "markdown",
      "source": [
        "Es la función principal que ejecuta el programa. Presenta un menú interactivo al usuario, permite ingresar los valores de las entradas, y realiza las operaciones lógicas AND y OR. También permite volver a realizar operaciones o salir del programa."
      ],
      "metadata": {
        "id": "4SbJrxihbB9_"
      }
    },
    {
      "cell_type": "code",
      "source": [
        "def main():\n",
        "    w = [1, 1]\n",
        "    while True:\n",
        "        print(\"\\n--- Menú ---\")\n",
        "        print(\"1. Ingresar valores y realizar operaciones AND/OR\")\n",
        "        print(\"2. Salir\")\n",
        "\n",
        "        opcion = input(\"Seleccione una opción: \")\n",
        "\n",
        "        if opcion == \"1\":\n",
        "            # Ingresar valores para x\n",
        "            x = ingresar_datos()\n",
        "\n",
        "            # Operación AND\n",
        "            y_and, so = and_operation(x, w)\n",
        "            print(f\"\\nS es igual a: {so}\")\n",
        "            print(f\"{x[0]} AND {x[1]} = {y_and}\")\n",
        "\n",
        "            # Operación OR\n",
        "            y_or, st = or_operation(x, w)\n",
        "            print(f\"\\nS es igual a: {st}\")\n",
        "            print(f\"{x[0]} OR {x[1]} = {y_or}\")\n",
        "\n",
        "        elif opcion == \"2\":\n",
        "            print(\"Saliendo del programa...\")\n",
        "            break\n",
        "        else:\n",
        "            print(\"Opción no válida. Intente de nuevo.\")\n",
        "\n",
        "if __name__ == \"__main__\":\n",
        "    main()"
      ],
      "metadata": {
        "colab": {
          "base_uri": "https://localhost:8080/"
        },
        "id": "RSmVR5qRZA8j",
        "outputId": "8e1dad65-003c-487e-96e5-0ac3a4976211"
      },
      "execution_count": null,
      "outputs": [
        {
          "output_type": "stream",
          "name": "stdout",
          "text": [
            "\n",
            "--- Menú ---\n",
            "1. Ingresar valores y realizar operaciones AND/OR\n",
            "2. Salir\n",
            "Seleccione una opción: 1\n",
            "Ingrese el valor de x[0] (0 o 1): 0\n",
            "Ingrese el valor de x[1] (0 o 1): 0\n",
            "\n",
            "S es igual a: -1.5\n",
            "0 AND 0 = 0\n",
            "\n",
            "S es igual a: -0.5\n",
            "0 OR 0 = 0\n",
            "\n",
            "--- Menú ---\n",
            "1. Ingresar valores y realizar operaciones AND/OR\n",
            "2. Salir\n",
            "Seleccione una opción: 1\n",
            "Ingrese el valor de x[0] (0 o 1): 0\n",
            "Ingrese el valor de x[1] (0 o 1): 1\n",
            "\n",
            "S es igual a: -1.5\n",
            "0 AND 1 = 0\n",
            "\n",
            "S es igual a: -0.5\n",
            "0 OR 1 = 1\n",
            "\n",
            "--- Menú ---\n",
            "1. Ingresar valores y realizar operaciones AND/OR\n",
            "2. Salir\n",
            "Seleccione una opción: 1\n",
            "Ingrese el valor de x[0] (0 o 1): 1\n",
            "Ingrese el valor de x[1] (0 o 1): 0\n",
            "\n",
            "S es igual a: -1.5\n",
            "1 AND 0 = 0\n",
            "\n",
            "S es igual a: -0.5\n",
            "1 OR 0 = 1\n",
            "\n",
            "--- Menú ---\n",
            "1. Ingresar valores y realizar operaciones AND/OR\n",
            "2. Salir\n",
            "Seleccione una opción: 1\n",
            "Ingrese el valor de x[0] (0 o 1): 1\n",
            "Ingrese el valor de x[1] (0 o 1): 1\n",
            "\n",
            "S es igual a: -1.5\n",
            "1 AND 1 = 1\n",
            "\n",
            "S es igual a: -0.5\n",
            "1 OR 1 = 1\n",
            "\n",
            "--- Menú ---\n",
            "1. Ingresar valores y realizar operaciones AND/OR\n",
            "2. Salir\n",
            "Seleccione una opción: 2\n",
            "Saliendo del programa...\n"
          ]
        }
      ]
    }
  ]
}