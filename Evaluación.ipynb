{
  "nbformat": 4,
  "nbformat_minor": 0,
  "metadata": {
    "colab": {
      "provenance": [],
      "authorship_tag": "ABX9TyOqkDpFXoFSMUUKU8JOZo28",
      "include_colab_link": true
    },
    "kernelspec": {
      "name": "python3",
      "display_name": "Python 3"
    },
    "language_info": {
      "name": "python"
    }
  },
  "cells": [
    {
      "cell_type": "markdown",
      "metadata": {
        "id": "view-in-github",
        "colab_type": "text"
      },
      "source": [
        "<a href=\"https://colab.research.google.com/github/Eaag2001/IA-Sistemas2024/blob/main/Evaluaci%C3%B3n.ipynb\" target=\"_parent\"><img src=\"https://colab.research.google.com/assets/colab-badge.svg\" alt=\"Open In Colab\"/></a>"
      ]
    },
    {
      "cell_type": "markdown",
      "source": [
        "# **Evaluación <br>**\n",
        "\n",
        "\n",
        "*   Crear un notebook en colab a partir del programa base de la compuerta AND\n",
        "*   Modificar para que funcione con las dos compuertas AND y OR\n",
        "\n",
        "\n",
        "---\n",
        "\n",
        "AND <br>\n",
        "0 0 -> 0 <br>\n",
        "0 1 -> 0 <br>\n",
        "1 0 -> 0 <br>\n",
        "1 1 -> 1 <br>\n",
        "\n",
        "---\n",
        "\n",
        "OR <br>\n",
        "0 0 -> 0 <br>\n",
        "0 1 -> 1 <br>\n",
        "1 0 -> 1 <br>\n",
        "1 1 -> 1 <br>\n"
      ],
      "metadata": {
        "id": "Skf5Pw-GoMnI"
      }
    },
    {
      "cell_type": "code",
      "source": [
        "x = [1, 1]\n",
        "w = [1, 1]\n",
        "\n",
        "so = -1.5\n",
        "for i in range(0, 2):\n",
        "    s = so + x[i] * w[i]\n",
        "y_and = 1 if s > 0 else 0\n",
        "print('S es igual a:', so)\n",
        "print(x[0], 'AND', x[1], '=', y_and)\n",
        "\n",
        "st = -0.5\n",
        "for i in range(0, 2):\n",
        "    s = st + x[i] * w[i]\n",
        "y_or = 1 if s > 0 else 0\n",
        "print('S es igual a:', st)\n",
        "print(x[0], 'OR', x[1], '=', y_or)\n"
      ],
      "metadata": {
        "colab": {
          "base_uri": "https://localhost:8080/"
        },
        "id": "8u62tCevl1X_",
        "outputId": "19b979e7-2345-4f81-9398-84cf1b773380"
      },
      "execution_count": 31,
      "outputs": [
        {
          "output_type": "stream",
          "name": "stdout",
          "text": [
            "S es igual a: -1.5\n",
            "1 AND 1 = 0\n",
            "S es igual a: -0.5\n",
            "1 OR 1 = 1\n"
          ]
        }
      ]
    },
    {
      "cell_type": "code",
      "source": [
        "x = [0, 0]\n",
        "w = [1, 1]\n",
        "s = -1.5\n",
        "y = 0\n",
        "for i in range(0, 2):\n",
        "    s = s + x[i] * w[i]\n",
        "print('S es igual a:', s)\n",
        "\n",
        "y = 1 if s > 0 else 0\n",
        "print(x[0], 'AND', x[1], '=', y)"
      ],
      "metadata": {
        "id": "NPX0W4xIpKgX"
      },
      "execution_count": null,
      "outputs": []
    }
  ]
}