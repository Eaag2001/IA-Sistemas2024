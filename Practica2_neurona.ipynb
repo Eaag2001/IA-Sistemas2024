{
  "nbformat": 4,
  "nbformat_minor": 0,
  "metadata": {
    "colab": {
      "provenance": [],
      "authorship_tag": "ABX9TyNc4zEWsSNosa+Ki+LlZv6P",
      "include_colab_link": true
    },
    "kernelspec": {
      "name": "python3",
      "display_name": "Python 3"
    },
    "language_info": {
      "name": "python"
    }
  },
  "cells": [
    {
      "cell_type": "markdown",
      "metadata": {
        "id": "view-in-github",
        "colab_type": "text"
      },
      "source": [
        "<a href=\"https://colab.research.google.com/github/Eaag2001/IA-Sistemas2024/blob/main/Practica2_neurona.ipynb\" target=\"_parent\"><img src=\"https://colab.research.google.com/assets/colab-badge.svg\" alt=\"Open In Colab\"/></a>"
      ]
    },
    {
      "cell_type": "markdown",
      "source": [
        "# **Neurona aprendizaje compuerta AND**\n",
        "\n",
        "\n",
        "---\n",
        "\n",
        "00 -> 0 <br>\n",
        "01 -> 0 <br>\n",
        "10 -> 0 <br>\n",
        "11 -> 1 <br>"
      ],
      "metadata": {
        "id": "ETp7E2gynAS0"
      }
    },
    {
      "cell_type": "markdown",
      "source": [
        "#**0 0 -> 0**"
      ],
      "metadata": {
        "id": "X-MWnaDgexpx"
      }
    },
    {
      "cell_type": "code",
      "source": [
        "x = [0, 0]\n",
        "w = [1, 1]\n",
        "s = -1.5\n",
        "y = 0\n",
        "for i in range(0, 2):\n",
        "    s = s + x[i] * w[i]\n",
        "print('S es igual a:', s)\n",
        "\n",
        "y = 1 if s > 0 else 0\n",
        "print(x[0], 'AND', x[1], '=', y)"
      ],
      "metadata": {
        "colab": {
          "base_uri": "https://localhost:8080/"
        },
        "id": "eTIPdL-8nfv-",
        "outputId": "faa14db9-ea9a-4f91-bf8f-2245311479bf"
      },
      "execution_count": 33,
      "outputs": [
        {
          "output_type": "stream",
          "name": "stdout",
          "text": [
            "S es igual a: -1.5\n",
            "0 AND 0 = 0\n"
          ]
        }
      ]
    },
    {
      "cell_type": "markdown",
      "source": [
        "# **0 1 -> 0**"
      ],
      "metadata": {
        "id": "6sF9XqOle60x"
      }
    },
    {
      "cell_type": "code",
      "source": [
        "x = [0, 1]\n",
        "w = [1, 1]\n",
        "s = -1.5\n",
        "y = 0\n",
        "for i in range(0, 2):\n",
        "    s = s + x[i] * w[i]\n",
        "print('S es igual a:', s)\n",
        "\n",
        "y = 1 if s > 0 else 0\n",
        "print(x[0], 'AND', x[1], '=', y)"
      ],
      "metadata": {
        "colab": {
          "base_uri": "https://localhost:8080/"
        },
        "id": "WG8X2vX4fG-l",
        "outputId": "bb52e30f-e9ca-4dc6-af34-afd754826267"
      },
      "execution_count": 30,
      "outputs": [
        {
          "output_type": "stream",
          "name": "stdout",
          "text": [
            "S es igual a: -0.5\n",
            "0 AND 1 = 0\n"
          ]
        }
      ]
    },
    {
      "cell_type": "markdown",
      "source": [
        "# **1 0 -> 0**"
      ],
      "metadata": {
        "id": "uFgPbmhOfcHL"
      }
    },
    {
      "cell_type": "code",
      "source": [
        "x = [1, 0]\n",
        "w = [1, 1]\n",
        "s = -1.5\n",
        "y = 0\n",
        "for i in range(0, 2):\n",
        "    s = s + x[i] * w[i]\n",
        "print('S es igual a:', s)\n",
        "\n",
        "y = 1 if s > 0 else 0\n",
        "print(x[0], 'AND', x[1], '=', y)"
      ],
      "metadata": {
        "colab": {
          "base_uri": "https://localhost:8080/"
        },
        "id": "CECNSeSRfj1S",
        "outputId": "8886fddc-3dc9-48d9-e25f-4e9fbc67bcb1"
      },
      "execution_count": 31,
      "outputs": [
        {
          "output_type": "stream",
          "name": "stdout",
          "text": [
            "S es igual a: -0.5\n",
            "1 AND 0 = 0\n"
          ]
        }
      ]
    },
    {
      "cell_type": "markdown",
      "source": [
        "# **1 1 -> 1**"
      ],
      "metadata": {
        "id": "Sf-MG1bnfnw_"
      }
    },
    {
      "cell_type": "code",
      "source": [
        "x = [1, 1]\n",
        "w = [1, 1]\n",
        "s = -1.5\n",
        "y = 0\n",
        "for i in range(0, 2):\n",
        "    s = s + x[i] * w[i]\n",
        "print('S es igual a:', s)\n",
        "\n",
        "y = 1 if s > 0 else 0\n",
        "print(x[0], 'AND', x[1], '=', y)"
      ],
      "metadata": {
        "colab": {
          "base_uri": "https://localhost:8080/"
        },
        "id": "jXZad6fjfsXm",
        "outputId": "c4ddde71-4284-4170-e379-bf718f1d33a3"
      },
      "execution_count": 32,
      "outputs": [
        {
          "output_type": "stream",
          "name": "stdout",
          "text": [
            "S es igual a: 0.5\n",
            "1 AND 1 = 1\n"
          ]
        }
      ]
    },
    {
      "cell_type": "markdown",
      "source": [
        "Tarea buscar el peso \"w\" correcto que nos de los resultados correctos en la conbinaciones de datos de entrada \"x\" de la compuerta and \"s\""
      ],
      "metadata": {
        "id": "6oG83gwrq4L3"
      }
    },
    {
      "cell_type": "markdown",
      "source": [
        "# Evaluacion <br>\n",
        "\n",
        "Crear un notebook en colab a partir del porgrama base de la compuerta AND <br>\n",
        "Modificar para que funcione las dos compuertas AND y OR <br>\n",
        "\n",
        "Criterios de aceptacion: El programa va a solicitar los valores del datashet para x0 y x1, por lo cual la impresion de resultados debe mostrar la compuerta AND y la compuerta OR (Y)\n",
        "\n",
        "\n"
      ],
      "metadata": {
        "id": "d1mKMJWieVKZ"
      }
    }
  ]
}